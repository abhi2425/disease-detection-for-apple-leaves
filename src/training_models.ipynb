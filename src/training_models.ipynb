{
 "cells": [
  {
   "cell_type": "code",
   "execution_count": 17,
   "metadata": {},
   "outputs": [
    {
     "name": "stdout",
     "output_type": "stream",
     "text": [
      "<HDF5 dataset \"dataset_1\": shape (3010, 532), type \"<f8\">\n",
      "../embeddings/features/features.h5 [[0.8974175  0.03450962 0.01845123 ... 0.02027887 0.12693291 0.96573218]\n",
      " [0.89815922 0.13025558 0.02774864 ... 0.02027767 0.12692423 0.96573354]\n",
      " [0.56777027 0.         0.01540143 ... 0.02027886 0.12693269 0.96573218]\n",
      " ...\n",
      " [0.95697685 0.01228793 0.00548476 ... 0.02027886 0.12693346 0.96573218]\n",
      " [0.97704002 0.10614054 0.03136325 ... 0.02027885 0.12692424 0.96573217]\n",
      " [0.95214074 0.03819411 0.03671892 ... 0.02027886 0.12692996 0.96573217]]\n",
      "<HDF5 dataset \"dataset_1\": shape (3010,), type \"<i8\">\n",
      "../embeddings/labels/labels.h5 [0 0 0 ... 3 3 3]\n",
      "[STATUS] splitted train and test data...\n",
      "Train data  : (2408, 532)\n",
      "Test data   : (602, 532)\n"
     ]
    }
   ],
   "source": [
    "import os\n",
    "import h5py\n",
    "import numpy as np\n",
    "from sklearn.model_selection import train_test_split\n",
    "\n",
    "# Constants\n",
    "h5_train_features = \"../embeddings/features/features.h5\"\n",
    "h5_train_labels = \"../embeddings/labels/labels.h5\"\n",
    "test_size = 0.20\n",
    "seed = 9\n",
    "\n",
    "def read_h5_file(file_path):\n",
    "    h5f_data = h5py.File(file_path, \"r\")\n",
    "    embedding_string = h5f_data[\"dataset_1\"]\n",
    "    print(embedding_string)\n",
    "    embeddings = np.array(embedding_string)\n",
    "    print(file_path,embeddings)\n",
    "    h5f_data.close()\n",
    "    return embeddings\n",
    "  \n",
    "global_features = read_h5_file(h5_train_features)\n",
    "global_labels = read_h5_file(h5_train_labels)\n",
    "\n",
    "# split the training and testing data\n",
    "(\n",
    "    trainFeaturesGlobal,\n",
    "    testFeaturesGlobal,\n",
    "    trainLabelsGlobal,\n",
    "    testLabelsGlobal,\n",
    ") = train_test_split(np.array(global_features), np.array(global_labels), test_size=test_size, random_state=seed)\n",
    "\n",
    "print(\"[STATUS] splitted train and test data...\")\n",
    "print(\"Train data  : {}\".format(trainFeaturesGlobal.shape))\n",
    "print(\"Test data   : {}\".format(testFeaturesGlobal.shape))"
   ]
  },
  {
   "cell_type": "code",
   "execution_count": 18,
   "metadata": {},
   "outputs": [
    {
     "name": "stdout",
     "output_type": "stream",
     "text": [
      "[STATUS] training the model...\n",
      "Model: LR Accuracy: 0.9136212624584718\n",
      "[STATUS] saved model ../models/LR.pkl\n",
      "Model: KNN Accuracy: 0.9086378737541528\n",
      "[STATUS] saved model ../models/KNN.pkl\n",
      "Model: DTC Accuracy: 0.893687707641196\n",
      "[STATUS] saved model ../models/DTC.pkl\n",
      "Model: RF Accuracy: 0.9700996677740864\n",
      "[STATUS] saved model ../models/RF.pkl\n",
      "Model: LDA Accuracy: 0.9119601328903655\n",
      "[STATUS] saved model ../models/LDA.pkl\n",
      "Model: NB Accuracy: 0.8205980066445183\n",
      "[STATUS] saved model ../models/NB.pkl\n",
      "Model: SVM Accuracy: 0.9019933554817275\n",
      "[STATUS] saved model ../models/SVM.pkl\n"
     ]
    }
   ],
   "source": [
    "from sklearn.linear_model import LogisticRegression\n",
    "from sklearn.tree import DecisionTreeClassifier\n",
    "from sklearn.ensemble import RandomForestClassifier\n",
    "from sklearn.neighbors import KNeighborsClassifier\n",
    "from sklearn.discriminant_analysis import LinearDiscriminantAnalysis\n",
    "from sklearn.naive_bayes import GaussianNB\n",
    "from sklearn.svm import SVC\n",
    "from sklearn.metrics import confusion_matrix, accuracy_score, classification_report\n",
    "import pickle\n",
    "import warnings\n",
    "\n",
    "warnings.filterwarnings(\"ignore\")\n",
    "\n",
    "# create all the machine learning models\n",
    "models = {\n",
    "    \"LR\": LogisticRegression(random_state=seed),\n",
    "    \"KNN\": KNeighborsClassifier(),\n",
    "    \"DTC\": DecisionTreeClassifier(random_state=seed),\n",
    "    \"RF\": RandomForestClassifier(random_state=seed),\n",
    "    \"LDA\": LinearDiscriminantAnalysis(),\n",
    "    \"NB\": GaussianNB(),\n",
    "    \"SVM\": SVC(random_state=seed),\n",
    "}\n",
    "\n",
    "def train_and_save_model():\n",
    "    # train the model\n",
    "  print(\"[STATUS] training the model...\")\n",
    "  for name, model in models.items():\n",
    "      model.fit(trainFeaturesGlobal, trainLabelsGlobal)\n",
    "      # predict  the model\n",
    "      predictions = model.predict(testFeaturesGlobal)\n",
    "      # evaluate the model\n",
    "      score = accuracy_score(testLabelsGlobal, predictions)\n",
    "      print(\"Model: {} Accuracy: {}\".format(name, score))\n",
    "      \n",
    "      # save the model\n",
    "      if not os.path.exists(\"../models\"):\n",
    "        os.makedirs(\"../models\")\n",
    "        \n",
    "      filename = \"../models/{}.pkl\".format(name)\n",
    "      pickle.dump(model, open(filename, \"wb\"))\n",
    "      print(\"[STATUS] saved model {}\".format(filename))\n",
    "\n",
    "train_and_save_model() "
   ]
  },
  {
   "cell_type": "code",
   "execution_count": null,
   "metadata": {},
   "outputs": [],
   "source": []
  }
 ],
 "metadata": {
  "kernelspec": {
   "display_name": "Python 3",
   "language": "python",
   "name": "python3"
  },
  "language_info": {
   "codemirror_mode": {
    "name": "ipython",
    "version": 3
   },
   "file_extension": ".py",
   "mimetype": "text/x-python",
   "name": "python",
   "nbconvert_exporter": "python",
   "pygments_lexer": "ipython3",
   "version": "3.10.11"
  },
  "orig_nbformat": 4
 },
 "nbformat": 4,
 "nbformat_minor": 2
}
